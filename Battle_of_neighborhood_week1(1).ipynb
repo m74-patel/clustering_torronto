{
    "nbformat_minor": 1, 
    "cells": [
        {
            "source": "<h1><b>The Battle of Neighborhood-Week 1(1)</b></h1>", 
            "cell_type": "markdown", 
            "metadata": {
                "collapsed": true
            }
        }, 
        {
            "source": "<h3><b>Introduction </b></h3>", 
            "cell_type": "markdown", 
            "metadata": {}
        }, 
        {
            "source": "<b>Problem Background:</b>", 
            "cell_type": "markdown", 
            "metadata": {}
        }, 
        {
            "source": "<p>The City of New York, is the most populous city in the United States. It is diverse and is the financial capital of USA. It is multicultural. It is a global hub of business and commerce. The city is a major center for banking and finance, retailing, world trade, transportation, tourism, real estate, new media, traditional media, advertising, legal services, accountancy, insurance, theater, fashion, and the arts in the United States.</p>", 
            "cell_type": "markdown", 
            "metadata": {}
        }, 
        {
            "source": "<p>This also means that the market is highly competitive. As it is highly developed city so cost of doing business is also one of the highest. Thus, any new business venture or expansion needs to be analysed carefully. The insights derived from analysis will give good understanding of the business environment which help in strategically targeting the market. This will help in reduction of risk. And the Return on Investment will be reasonable.</p>", 
            "cell_type": "markdown", 
            "metadata": {}
        }, 
        {
            "source": "<b>Problem Description:</b>", 
            "cell_type": "markdown", 
            "metadata": {}
        }, 
        {
            "source": "<p>A restaurant is a business which prepares and serves food and drink to customers in return for money, either paid before the meal, after the meal, or with an open account. The City of New York is famous for its excelllent cuisine. It's food culture includes an array of international cuisines influenced by the city's immigrant history.</p>", 
            "cell_type": "markdown", 
            "metadata": {}
        }, 
        {
            "source": "<p>So it is evident that to survive in such competitive market it is very important to startegically plan. Various factors need to be studied inorder to decide on the Location such as : </p>\n\n1)New York Population ", 
            "cell_type": "markdown", 
            "metadata": {}
        }, 
        {
            "source": "2)New York City Demographics ", 
            "cell_type": "markdown", 
            "metadata": {}
        }, 
        {
            "source": "3)Are there any Farmers Markets, Wholesale markets etc nearby so that the ingredients can be purchased fresh to maintain quality and cost?", 
            "cell_type": "markdown", 
            "metadata": {}
        }, 
        {
            "source": "4)Are there any venues like Gyms, Entertainmnet zones, Parks etc nearby where floating population is high etc ", 
            "cell_type": "markdown", 
            "metadata": {}
        }, 
        {
            "source": "5)Who are the competitors in that location? ", 
            "cell_type": "markdown", 
            "metadata": {}
        }, 
        {
            "source": "6)Cuisine served / Menu of the competitors ", 
            "cell_type": "markdown", 
            "metadata": {}
        }, 
        {
            "source": "7)Segmentation of the Borough ", 
            "cell_type": "markdown", 
            "metadata": {}
        }, 
        {
            "source": "<b>Target Audience:</b>", 
            "cell_type": "markdown", 
            "metadata": {}
        }, 
        {
            "source": "<p>The objective is to locate and recommend to the management which neighborhood of Newyork city will be best choice to start a restaurant. The Management also expects to understand the rationale of the recommendations made.\n\nThis would interest anyone who wants to start a new restaurant in Newyork city.</p>", 
            "cell_type": "markdown", 
            "metadata": {}
        }, 
        {
            "execution_count": null, 
            "cell_type": "code", 
            "metadata": {}, 
            "outputs": [], 
            "source": ""
        }
    ], 
    "metadata": {
        "kernelspec": {
            "display_name": "Python 3.6", 
            "name": "python3", 
            "language": "python"
        }, 
        "language_info": {
            "mimetype": "text/x-python", 
            "nbconvert_exporter": "python", 
            "version": "3.6.8", 
            "name": "python", 
            "file_extension": ".py", 
            "pygments_lexer": "ipython3", 
            "codemirror_mode": {
                "version": 3, 
                "name": "ipython"
            }
        }
    }, 
    "nbformat": 4
}